{
 "cells": [
  {
   "cell_type": "code",
   "execution_count": 1,
   "id": "99146aec-1751-41d2-8bc0-25282091b439",
   "metadata": {},
   "outputs": [
    {
     "data": {
      "text/plain": [
       "['67']"
      ]
     },
     "execution_count": 1,
     "metadata": {},
     "output_type": "execute_result"
    }
   ],
   "source": [
    "import re\n",
    "text='''\n",
    "Born\tMukesh Dhirubhai Ambani\n",
    "19 April 1957 (age 67)\n",
    "Aden, Colony of Aden\n",
    "(present-day Yemen)[1][2]\n",
    "Nationality\tIndian\n",
    "Alma mater\t\n",
    "St. Xavier's College, Mumbai\n",
    "Institute of Chemical Technology (B.E.)\n",
    "Occupation(s)\tChairman and MD, Reliance Industries\n",
    "Spouse\tNita Ambani ​(m. 1985)​[3]\n",
    "Children\t3\n",
    "Parents\t\n",
    "Dhirubhai Ambani (father)\n",
    "Kokilaben Ambani (mother)\n",
    "Relatives\tAnil Ambani (brother)\n",
    "Tina Ambani (sister-in-law)\n",
    "'''\n",
    "pattern='age (\\d+)'\n",
    "matches=re.findall(pattern,text)\n",
    "matches"
   ]
  },
  {
   "cell_type": "code",
   "execution_count": 2,
   "id": "0ea1067c-47d0-4f32-902e-620ec2645ac9",
   "metadata": {},
   "outputs": [
    {
     "data": {
      "text/plain": [
       "'Mukesh Dhirubhai Ambani'"
      ]
     },
     "execution_count": 2,
     "metadata": {},
     "output_type": "execute_result"
    }
   ],
   "source": [
    "pattern='Born(.*)\\n'\n",
    "matches=re.findall(pattern,text)\n",
    "matches[0].strip()"
   ]
  },
  {
   "cell_type": "code",
   "execution_count": 3,
   "id": "ecfd4a1c-30b2-439e-9c49-358dbbb10c6c",
   "metadata": {},
   "outputs": [
    {
     "data": {
      "text/plain": [
       "'19 April 1957'"
      ]
     },
     "execution_count": 3,
     "metadata": {},
     "output_type": "execute_result"
    }
   ],
   "source": [
    "pattern='Born.*\\n(.*)\\(age'\n",
    "matches=re.findall(pattern,text)\n",
    "matches[0].strip()"
   ]
  },
  {
   "cell_type": "code",
   "execution_count": 4,
   "id": "81ddea62-6812-416e-be55-3326adf9ae00",
   "metadata": {},
   "outputs": [
    {
     "data": {
      "text/plain": [
       "'Aden, Colony of Aden'"
      ]
     },
     "execution_count": 4,
     "metadata": {},
     "output_type": "execute_result"
    }
   ],
   "source": [
    "pattern='Born.*\\n.*age .*\\n(.*)'\n",
    "matches=re.findall(pattern,text)\n",
    "matches[0].strip()"
   ]
  },
  {
   "cell_type": "code",
   "execution_count": 5,
   "id": "442c0609-409c-47c6-b705-b8463ee1dd99",
   "metadata": {},
   "outputs": [],
   "source": [
    "def get_pattern_match(pattern,text):\n",
    "    matches=re.findall(pattern,text)\n",
    "    if matches:\n",
    "        \n",
    "        return matches[0].strip()"
   ]
  },
  {
   "cell_type": "code",
   "execution_count": 6,
   "id": "227611ff-5a64-461f-9033-b4857f47aea3",
   "metadata": {},
   "outputs": [
    {
     "data": {
      "text/plain": [
       "'Aden, Colony of Aden'"
      ]
     },
     "execution_count": 6,
     "metadata": {},
     "output_type": "execute_result"
    }
   ],
   "source": [
    "get_pattern_match('Born.*\\n.*age .*\\n(.*)',text)"
   ]
  },
  {
   "cell_type": "code",
   "execution_count": 7,
   "id": "f60cd492-036b-420f-b7aa-aa9868f800e8",
   "metadata": {},
   "outputs": [],
   "source": [
    "def getPersonalInformation(text):\n",
    "    age=get_pattern_match('age (\\d+)',text)\n",
    "    full_name=get_pattern_match('Born(.*)\\n',text)\n",
    "    dob=get_pattern_match('Born.*\\n(.*)\\(age',text)\n",
    "    Birth_place=get_pattern_match('Born.*\\n.*age .*\\n(.*)',text)\n",
    "    return{\n",
    "        'age':int(age),\n",
    "        'name':full_name.strip(),\n",
    "        'birth_date':dob.strip(),\n",
    "        'birth_place':Birth_place.strip()\n",
    "    }"
   ]
  },
  {
   "cell_type": "code",
   "execution_count": 8,
   "id": "74ef2582-2589-41f3-82b8-5d0585b91309",
   "metadata": {},
   "outputs": [
    {
     "data": {
      "text/plain": [
       "{'age': 67,\n",
       " 'name': 'Mukesh Dhirubhai Ambani',\n",
       " 'birth_date': '19 April 1957',\n",
       " 'birth_place': 'Aden, Colony of Aden'}"
      ]
     },
     "execution_count": 8,
     "metadata": {},
     "output_type": "execute_result"
    }
   ],
   "source": [
    "getPersonalInformation(text)"
   ]
  },
  {
   "cell_type": "code",
   "execution_count": null,
   "id": "2cb9e537-3ed1-4a86-9444-259bd0149970",
   "metadata": {},
   "outputs": [],
   "source": []
  }
 ],
 "metadata": {
  "kernelspec": {
   "display_name": "Python 3 (ipykernel)",
   "language": "python",
   "name": "python3"
  },
  "language_info": {
   "codemirror_mode": {
    "name": "ipython",
    "version": 3
   },
   "file_extension": ".py",
   "mimetype": "text/x-python",
   "name": "python",
   "nbconvert_exporter": "python",
   "pygments_lexer": "ipython3",
   "version": "3.9.19"
  }
 },
 "nbformat": 4,
 "nbformat_minor": 5
}
