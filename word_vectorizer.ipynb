{
 "cells": [
  {
   "cell_type": "code",
   "execution_count": 2,
   "metadata": {},
   "outputs": [],
   "source": [
    "import spacy\n",
    "nlp=spacy.load(\"en_core_web_lg\")"
   ]
  },
  {
   "cell_type": "code",
   "execution_count": 3,
   "metadata": {},
   "outputs": [
    {
     "name": "stdout",
     "output_type": "stream",
     "text": [
      "dog, Vextor ,True, OOV ,False\n",
      "cat, Vextor ,True, OOV ,False\n",
      "banana, Vextor ,True, OOV ,False\n",
      "kem, Vextor ,False, OOV ,True\n"
     ]
    }
   ],
   "source": [
    "doc=nlp(\"dog cat banana kem\")\n",
    "for token in doc:\n",
    "    print(f\"{token.text}, Vextor ,{token.has_vector}, OOV ,{token.is_oov}\")"
   ]
  },
  {
   "cell_type": "code",
   "execution_count": 4,
   "metadata": {},
   "outputs": [
    {
     "data": {
      "text/plain": [
       "(300,)"
      ]
     },
     "execution_count": 4,
     "metadata": {},
     "output_type": "execute_result"
    }
   ],
   "source": [
    "doc[0].vector.shape"
   ]
  },
  {
   "cell_type": "code",
   "execution_count": 5,
   "metadata": {},
   "outputs": [
    {
     "data": {
      "text/plain": [
       "(300,)"
      ]
     },
     "execution_count": 5,
     "metadata": {},
     "output_type": "execute_result"
    }
   ],
   "source": [
    "base_token=nlp(\"bread\")\n",
    "base_token[0].vector.shape"
   ]
  },
  {
   "cell_type": "code",
   "execution_count": 8,
   "metadata": {},
   "outputs": [
    {
     "name": "stdout",
     "output_type": "stream",
     "text": [
      "bread <-> bread : 0.9999999744752309\n",
      "sandwich <-> bread : 0.634106782477101\n",
      "burger <-> bread : 0.4752069113758708\n",
      "eat <-> bread : 0.4318561916283459\n",
      "tiger <-> bread : 0.04764611675903374\n",
      "human <-> bread : 0.2151154210812192\n",
      "wheat <-> bread : 0.6150360888607199\n"
     ]
    }
   ],
   "source": [
    "doc=nlp(\"bread sandwich burger eat tiger human wheat\")\n",
    "\n",
    "for token in doc:\n",
    "    print(f\"{token.text} <-> {base_token.text} : {token.similarity(base_token)}\")"
   ]
  },
  {
   "cell_type": "code",
   "execution_count": 9,
   "metadata": {},
   "outputs": [],
   "source": [
    "def print_similarity(base_word,word_to_compare):\n",
    "    base_token=nlp(base_word)\n",
    "    doc=nlp(word_to_compare)\n",
    "    for token in doc:\n",
    "        print(f\"{token.text} <-> {base_token.text} : {token.similarity(base_token)}\")\n",
    "    "
   ]
  },
  {
   "cell_type": "code",
   "execution_count": 10,
   "metadata": {},
   "outputs": [
    {
     "name": "stdout",
     "output_type": "stream",
     "text": [
      "apple <-> iphone : 0.4387907748060368\n",
      "samsung <-> iphone : 0.670859081425417\n",
      "iphone <-> iphone : 0.9999999983096304\n",
      "dog <-> iphone : 0.08211864228011527\n",
      "kitten <-> iphone : 0.10222318459666081\n"
     ]
    }
   ],
   "source": [
    "print_similarity(\"iphone\",\"apple samsung iphone dog kitten\")"
   ]
  },
  {
   "cell_type": "code",
   "execution_count": 11,
   "metadata": {},
   "outputs": [],
   "source": [
    "king=nlp.vocab[\"king\"].vector\n",
    "man=nlp.vocab[\"man\"].vector\n",
    "woman=nlp.vocab[\"woman\"].vector\n",
    "queen=nlp.vocab[\"queen\"].vector\n",
    "\n",
    "result=king -man+woman"
   ]
  },
  {
   "cell_type": "code",
   "execution_count": 12,
   "metadata": {},
   "outputs": [
    {
     "data": {
      "text/plain": [
       "array([[0.6178014]], dtype=float32)"
      ]
     },
     "execution_count": 12,
     "metadata": {},
     "output_type": "execute_result"
    }
   ],
   "source": [
    "from sklearn.metrics.pairwise import cosine_similarity\n",
    "\n",
    "cosine_similarity([result],[queen])"
   ]
  },
  {
   "cell_type": "code",
   "execution_count": null,
   "metadata": {},
   "outputs": [],
   "source": []
  }
 ],
 "metadata": {
  "kernelspec": {
   "display_name": "tf",
   "language": "python",
   "name": "python3"
  },
  "language_info": {
   "codemirror_mode": {
    "name": "ipython",
    "version": 3
   },
   "file_extension": ".py",
   "mimetype": "text/x-python",
   "name": "python",
   "nbconvert_exporter": "python",
   "pygments_lexer": "ipython3",
   "version": "3.9.19"
  }
 },
 "nbformat": 4,
 "nbformat_minor": 2
}
